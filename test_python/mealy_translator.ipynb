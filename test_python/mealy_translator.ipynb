{
 "cells": [
  {
   "cell_type": "code",
   "execution_count": 7,
   "id": "84db1356",
   "metadata": {},
   "outputs": [],
   "source": [
    "class MealyTranslator:\n",
    "    def __init__(self):\n",
    "        self.current_state = 0\n",
    "        \n",
    "        self.translation_dict = {\n",
    "            0: {\n",
    "                \"hello\": \"bom dia\",\n",
    "                \"goodbye\": \"até logo\",\n",
    "                \"thanks\": \"muito obrigado\",\n",
    "                \"please\": \"por favor\",\n",
    "                \"yes\": \"sim, certamente\",\n",
    "                \"no\": \"não, infelizmente\",\n",
    "                \"help\": \"poderia me auxiliar\"\n",
    "            },\n",
    "            1: {\n",
    "                \"hello\": \"oi\",\n",
    "                \"goodbye\": \"tchau\",\n",
    "                \"thanks\": \"valeu\",\n",
    "                \"please\": \"por favor\",\n",
    "                \"yes\": \"sim\",\n",
    "                \"no\": \"não\",\n",
    "                \"help\": \"me ajuda\"\n",
    "            },\n",
    "            2: {\n",
    "                \"hello\": \"saudações\",\n",
    "                \"goodbye\": \"finalizando comunicação\",\n",
    "                \"thanks\": \"agradeço a cooperação\",\n",
    "                \"please\": \"solicito que\",\n",
    "                \"yes\": \"afirmativo\",\n",
    "                \"no\": \"negativo\",\n",
    "                \"help\": \"necessito de assistência técnica\"\n",
    "            },\n",
    "            3: {\n",
    "                \"hello\": \"e aí\",\n",
    "                \"goodbye\": \"flw\",\n",
    "                \"thanks\": \"vlw\",\n",
    "                \"please\": \"por favor\",\n",
    "                \"yes\": \"beleza\",\n",
    "                \"no\": \"nem\",\n",
    "                \"help\": \"dá uma força\"\n",
    "            }\n",
    "        }\n",
    "        \n",
    "        self.state_transition_words = {\n",
    "            \"formal\": 0,\n",
    "            \"informal\": 1,\n",
    "            \"technical\": 2,\n",
    "            \"casual\": 3\n",
    "        }\n",
    "        \n",
    "    def translate(self, text):\n",
    "        words = text.lower().split()\n",
    "        translated = []\n",
    "        \n",
    "        for word in words:\n",
    "            if word in self.state_transition_words:\n",
    "                self.current_state = self.state_transition_words[word]\n",
    "                translated.append(f\"[Mudando para modo {word}]\")\n",
    "                continue\n",
    "            \n",
    "            if word in self.translation_dict[self.current_state]:\n",
    "                translated.append(self.translation_dict[self.current_state][word])\n",
    "            else:\n",
    "                translated.append(word)\n",
    "                \n",
    "        return \" \".join(translated)\n",
    "    \n",
    "    "
   ]
  },
  {
   "cell_type": "code",
   "execution_count": 11,
   "id": "c300c95b",
   "metadata": {},
   "outputs": [
    {
     "name": "stdout",
     "output_type": "stream",
     "text": [
      "[Mudando para modo formal] bom dia muito obrigado\n",
      "[Mudando para modo informal] oi valeu\n",
      "[Mudando para modo technical] afirmativo finalizando comunicação\n"
     ]
    }
   ],
   "source": [
    "translator = MealyTranslator()\n",
    "print(translator.translate(\"formal Hello thanks\"))\n",
    "print(translator.translate(\"informal Hello thanks\"))\n",
    "print(translator.translate(\"technical Yes goodbye\"))"
   ]
  }
 ],
 "metadata": {
  "kernelspec": {
   "display_name": "Python 3",
   "language": "python",
   "name": "python3"
  },
  "language_info": {
   "codemirror_mode": {
    "name": "ipython",
    "version": 3
   },
   "file_extension": ".py",
   "mimetype": "text/x-python",
   "name": "python",
   "nbconvert_exporter": "python",
   "pygments_lexer": "ipython3",
   "version": "3.13.0"
  }
 },
 "nbformat": 4,
 "nbformat_minor": 5
}
