{
 "cells": [
  {
   "cell_type": "code",
   "execution_count": 5,
   "id": "758f155c",
   "metadata": {},
   "outputs": [],
   "source": [
    "class MooreParityGenerator:\n",
    "   \n",
    "    EVEN, ODD = 0, 1\n",
    "\n",
    "    def __init__(self):\n",
    "        self.state = self.EVEN         \n",
    "\n",
    "    def _next_state(self, bit: int) -> int:\n",
    "        return self.state ^ bit\n",
    "\n",
    "    def transition(self, bit: int) -> int:\n",
    "        if bit not in (0, 1):\n",
    "            raise ValueError(\"Bit deve ser 0 ou 1\")\n",
    "        self.state = self._next_state(bit)\n",
    "        return self.state               \n",
    "\n",
    "    def generate(self, bits):\n",
    "        return [self.transition(b) for b in bits]\n"
   ]
  },
  {
   "cell_type": "code",
   "execution_count": null,
   "id": "55857f05",
   "metadata": {},
   "outputs": [
    {
     "name": "stdout",
     "output_type": "stream",
     "text": [
      "[1, 1, 0, 1, 1, 0, 0, 0, 1, 0]\n"
     ]
    }
   ],
   "source": [
    "parity_moore = MooreParityGenerator()\n",
    "stream = [1, 0, 1, 1, 0, 1, 0, 0, 1, 1]\n",
    "print(parity_moore.generate(stream)) "
   ]
  },
  {
   "cell_type": "code",
   "execution_count": 2,
   "id": "3b623a13",
   "metadata": {},
   "outputs": [],
   "source": [
    "class MealyParityGenerator:\n",
    "    EVEN, ODD = 0, 1\n",
    "    def __init__(self):\n",
    "        self.state = self.EVEN\n",
    "\n",
    "    def transition(self, bit):\n",
    "        if bit not in (0, 1):\n",
    "            raise ValueError(\"bit deve ser 0 ou 1\")\n",
    "        out = self.state           \n",
    "        self.state ^= bit           \n",
    "        return out                  \n",
    "\n",
    "    def generate(self, bits):\n",
    "        return [self.transition(b) for b in bits]\n"
   ]
  },
  {
   "cell_type": "code",
   "execution_count": 3,
   "id": "ee9f6142",
   "metadata": {},
   "outputs": [
    {
     "name": "stdout",
     "output_type": "stream",
     "text": [
      "[0, 1, 1, 0, 1, 1, 0, 0, 0, 1]\n"
     ]
    }
   ],
   "source": [
    "parity_mealy = MealyParityGenerator()\n",
    "stream = [1, 0, 1, 1, 0, 1, 0, 0, 1, 1]\n",
    "print(parity_mealy.generate(stream))"
   ]
  }
 ],
 "metadata": {
  "kernelspec": {
   "display_name": "Python 3",
   "language": "python",
   "name": "python3"
  },
  "language_info": {
   "codemirror_mode": {
    "name": "ipython",
    "version": 3
   },
   "file_extension": ".py",
   "mimetype": "text/x-python",
   "name": "python",
   "nbconvert_exporter": "python",
   "pygments_lexer": "ipython3",
   "version": "3.13.0"
  }
 },
 "nbformat": 4,
 "nbformat_minor": 5
}
