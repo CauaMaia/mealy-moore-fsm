{
 "cells": [
  {
   "cell_type": "code",
   "execution_count": null,
   "id": "e197ce96",
   "metadata": {},
   "outputs": [],
   "source": [
    "class MealyCaesarCipher:\n",
    "    def __init__(self, shift: int = 3):\n",
    "        self.state = \"S0\"\n",
    "        self.shift = shift\n",
    "\n",
    "    def _output(self, ch: str) -> str:\n",
    "        if ch.isalpha():\n",
    "            base = ord('A') if ch.isupper() else ord('a')\n",
    "            return chr((ord(ch) - base + self.shift) % 26 + base)\n",
    "        return ch                   \n",
    "\n",
    "    def transition(self, ch: str) -> str:\n",
    "        return self._output(ch)\n",
    "\n",
    "    def encode(self, text: str) -> str:\n",
    "        return \"\".join(self.transition(c) for c in text)"
   ]
  },
  {
   "cell_type": "code",
   "execution_count": 6,
   "id": "15bb7ef3",
   "metadata": {},
   "outputs": [
    {
     "name": "stdout",
     "output_type": "stream",
     "text": [
      "KHOOR ZRUOG\n"
     ]
    }
   ],
   "source": [
    "cipher_mealy = MealyCaesarCipher(shift=3)\n",
    "print(cipher_mealy.encode(\"HELLO WORLD\"))"
   ]
  },
  {
   "cell_type": "code",
   "execution_count": 4,
   "id": "4dddd871",
   "metadata": {},
   "outputs": [],
   "source": [
    "class MooreCaesarCipher:\n",
    "    def __init__(self, shift=3):\n",
    "        self.shift = shift\n",
    "        self.buffer = \"\"           \n",
    "        self.ready = False         \n",
    "\n",
    "    def _shift(self, ch):\n",
    "        if ch.isalpha():\n",
    "            base = ord('A') if ch.isupper() else ord('a')\n",
    "            return chr((ord(ch) - base + self.shift) % 26 + base)\n",
    "        return ch\n",
    "\n",
    "    def transition(self, ch):\n",
    "        out = self.buffer if self.ready else \"\"\n",
    "        self.buffer  = self._shift(ch) \n",
    "        self.ready   = True\n",
    "        return out\n",
    "\n",
    "    def encode(self, text):\n",
    "        result = [self.transition(c) for c in text]\n",
    "        result.append(self.buffer)     \n",
    "        return \"\".join(result)\n"
   ]
  },
  {
   "cell_type": "code",
   "execution_count": 7,
   "id": "a51ac48a",
   "metadata": {},
   "outputs": [
    {
     "name": "stdout",
     "output_type": "stream",
     "text": [
      "KHOOR ZRUOG\n"
     ]
    }
   ],
   "source": [
    "cipher_moore = MooreCaesarCipher(shift=3)\n",
    "print(cipher_moore.encode(\"HELLO WORLD\"))"
   ]
  }
 ],
 "metadata": {
  "kernelspec": {
   "display_name": "Python 3",
   "language": "python",
   "name": "python3"
  },
  "language_info": {
   "codemirror_mode": {
    "name": "ipython",
    "version": 3
   },
   "file_extension": ".py",
   "mimetype": "text/x-python",
   "name": "python",
   "nbconvert_exporter": "python",
   "pygments_lexer": "ipython3",
   "version": "3.13.0"
  }
 },
 "nbformat": 4,
 "nbformat_minor": 5
}
