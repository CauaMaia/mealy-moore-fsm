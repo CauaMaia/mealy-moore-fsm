{
 "cells": [
  {
   "cell_type": "code",
   "execution_count": null,
   "id": "400169c0",
   "metadata": {},
   "outputs": [],
   "source": [
    "class MealyRLEEncoder:\n",
    "    def __init__(self):\n",
    "        self.state_symbol = None       \n",
    "        self.count = 0\n",
    "\n",
    "    def transition(self, ch: str):\n",
    "        emitted = []\n",
    "        if self.state_symbol is None:\n",
    "            # Primeiro símbolo\n",
    "            self.state_symbol, self.count = ch, 1\n",
    "        elif ch == self.state_symbol:\n",
    "            self.count += 1\n",
    "        else:\n",
    "            emitted.append((self.state_symbol, self.count))\n",
    "            self.state_symbol, self.count = ch, 1\n",
    "        return emitted\n",
    "\n",
    "    def flush(self):\n",
    "        if self.state_symbol is not None:\n",
    "            emitted = [(self.state_symbol, self.count)]\n",
    "            self.state_symbol, self.count = None, 0\n",
    "            return emitted\n",
    "        return []\n",
    "\n",
    "    def encode(self, data: str):\n",
    "        output = []\n",
    "        for ch in data:\n",
    "            output.extend(self.transition(ch))\n",
    "        output.extend(self.flush())\n",
    "        return output"
   ]
  },
  {
   "cell_type": "code",
   "execution_count": null,
   "id": "d2976f12",
   "metadata": {},
   "outputs": [
    {
     "name": "stdout",
     "output_type": "stream",
     "text": [
      "[('a', 3), ('b', 1), ('c', 4), ('d', 2)]\n"
     ]
    }
   ],
   "source": [
    "rle_mealy = MealyRLEEncoder()\n",
    "print(rle_mealy.encode(\"aaabccccdd\"))"
   ]
  },
  {
   "cell_type": "code",
   "execution_count": 3,
   "id": "d577cce3",
   "metadata": {},
   "outputs": [],
   "source": [
    "class MooreRLEEncoder:\n",
    "    def __init__(self):\n",
    "        self.sym = None      \n",
    "        self.count = 0\n",
    "        self.pending = None  \n",
    "\n",
    "    def transition(self, ch):\n",
    "        out = self.pending           \n",
    "        self.pending = None        \n",
    "        if self.sym is None:         \n",
    "            self.sym, self.count = ch, 1\n",
    "        elif ch == self.sym:\n",
    "            self.count += 1\n",
    "        else:\n",
    "            self.pending = (self.sym, self.count)\n",
    "            self.sym, self.count = ch, 1\n",
    "        return out                   \n",
    "\n",
    "    def encode(self, data):\n",
    "        res = []\n",
    "        for ch in data:\n",
    "            out = self.transition(ch)\n",
    "            if out: res.append(out)\n",
    "        \n",
    "        final = self.pending or (self.sym, self.count)\n",
    "        if final: res.append(final)\n",
    "        return res\n"
   ]
  },
  {
   "cell_type": "code",
   "execution_count": null,
   "id": "81deecd3",
   "metadata": {},
   "outputs": [
    {
     "name": "stdout",
     "output_type": "stream",
     "text": [
      "[('a', 3), ('b', 1), ('c', 4), ('d', 2)]\n"
     ]
    }
   ],
   "source": [
    "rle_moore = MooreRLEEncoder()\n",
    "print(rle_moore.encode(\"aaabccccdd\"))\n"
   ]
  }
 ],
 "metadata": {
  "kernelspec": {
   "display_name": "Python 3",
   "language": "python",
   "name": "python3"
  },
  "language_info": {
   "codemirror_mode": {
    "name": "ipython",
    "version": 3
   },
   "file_extension": ".py",
   "mimetype": "text/x-python",
   "name": "python",
   "nbconvert_exporter": "python",
   "pygments_lexer": "ipython3",
   "version": "3.13.0"
  }
 },
 "nbformat": 4,
 "nbformat_minor": 5
}
